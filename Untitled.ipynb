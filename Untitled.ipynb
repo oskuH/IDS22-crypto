{
 "cells": [
  {
   "cell_type": "code",
   "execution_count": 24,
   "metadata": {},
   "outputs": [],
   "source": [
    "from cbpro.public_client import PublicClient\n",
    "import pandas as pd\n",
    "pub = PublicClient()\n",
    "dat = pd.DataFrame(pub.get_product_historic_rates(product_id='BTC-EUR',\\\n",
    "                   start='2022-09-13 12:00:00',end='2022-09-14 12:00:00',\\\n",
    "                    granularity=300),\\\n",
    "                   columns=['time','low','high','open','close','volume'])\n",
    "time = dat['time']\n",
    "time = pd.to_datetime(time,unit='s')\n",
    "dat.index = time\n",
    "dat = dat.drop('time', axis=1)\n",
    "dat = dat.sort_values('time')"
   ]
  },
  {
   "cell_type": "code",
   "execution_count": 25,
   "metadata": {},
   "outputs": [],
   "source": [
    "import numpy as np\n",
    "price = dat['close'].array\n",
    "pricechange = price[1:]-price[:-1]\n",
    "dat = dat.iloc[:-1]\n",
    "dat['pricechange'] = pricechange"
   ]
  },
  {
   "cell_type": "code",
   "execution_count": 26,
   "metadata": {},
   "outputs": [
    {
     "data": {
      "text/plain": [
       "<matplotlib.axes._subplots.AxesSubplot at 0x7f9fa3d91970>"
      ]
     },
     "execution_count": 26,
     "metadata": {},
     "output_type": "execute_result"
    },
    {
     "data": {
      "image/png": "[encoded data removed]",
      "text/plain": [
       "<Figure size 432x288 with 1 Axes>"
      ]
     },
     "metadata": {
      "needs_background": "light"
     },
     "output_type": "display_data"
    }
   ],
   "source": [
    "dat.plot.scatter('volume','['volume'].hist()pricechange')"
   ]
  },
  {
   "cell_type": "code",
   "execution_count": 29,
   "metadata": {},
   "outputs": [
    {
     "data": {
      "text/html": [
       "<div>\n",
       "<style scoped>\n",
       "    .dataframe tbody tr th:only-of-type {\n",
       "        vertical-align: middle;\n",
       "    }\n",
       "\n",
       "    .dataframe tbody tr th {\n",
       "        vertical-align: top;\n",
       "    }\n",
       "\n",
       "    .dataframe thead th {\n",
       "        text-align: right;\n",
       "    }\n",
       "</style>\n",
       "<table border=\"1\" class=\"dataframe\">\n",
       "  <thead>\n",
       "    <tr style=\"text-align: right;\">\n",
       "      <th></th>\n",
       "      <th>low</th>\n",
       "      <th>high</th>\n",
       "      <th>open</th>\n",
       "      <th>close</th>\n",
       "      <th>volume</th>\n",
       "      <th>pricechange</th>\n",
       "    </tr>\n",
       "    <tr>\n",
       "      <th>time</th>\n",
       "      <th></th>\n",
       "      <th></th>\n",
       "      <th></th>\n",
       "      <th></th>\n",
       "      <th></th>\n",
       "      <th></th>\n",
       "    </tr>\n",
       "  </thead>\n",
       "  <tbody>\n",
       "    <tr>\n",
       "      <th>2022-09-13 12:00:00</th>\n",
       "      <td>22130.26</td>\n",
       "      <td>22227.54</td>\n",
       "      <td>22130.26</td>\n",
       "      <td>22211.14</td>\n",
       "      <td>8.216148</td>\n",
       "      <td>21.91</td>\n",
       "    </tr>\n",
       "    <tr>\n",
       "      <th>2022-09-13 12:05:00</th>\n",
       "      <td>22209.00</td>\n",
       "      <td>22248.94</td>\n",
       "      <td>22209.00</td>\n",
       "      <td>22233.05</td>\n",
       "      <td>0.623299</td>\n",
       "      <td>-7.05</td>\n",
       "    </tr>\n",
       "    <tr>\n",
       "      <th>2022-09-13 12:10:00</th>\n",
       "      <td>22197.12</td>\n",
       "      <td>22243.83</td>\n",
       "      <td>22232.48</td>\n",
       "      <td>22226.00</td>\n",
       "      <td>2.363756</td>\n",
       "      <td>31.49</td>\n",
       "    </tr>\n",
       "    <tr>\n",
       "      <th>2022-09-13 12:15:00</th>\n",
       "      <td>22224.36</td>\n",
       "      <td>22277.46</td>\n",
       "      <td>22224.46</td>\n",
       "      <td>22257.49</td>\n",
       "      <td>5.370969</td>\n",
       "      <td>64.11</td>\n",
       "    </tr>\n",
       "    <tr>\n",
       "      <th>2022-09-13 12:20:00</th>\n",
       "      <td>22229.40</td>\n",
       "      <td>22324.00</td>\n",
       "      <td>22256.24</td>\n",
       "      <td>22321.60</td>\n",
       "      <td>3.835224</td>\n",
       "      <td>15.50</td>\n",
       "    </tr>\n",
       "    <tr>\n",
       "      <th>...</th>\n",
       "      <td>...</td>\n",
       "      <td>...</td>\n",
       "      <td>...</td>\n",
       "      <td>...</td>\n",
       "      <td>...</td>\n",
       "      <td>...</td>\n",
       "    </tr>\n",
       "    <tr>\n",
       "      <th>2022-09-14 11:35:00</th>\n",
       "      <td>20291.39</td>\n",
       "      <td>20313.98</td>\n",
       "      <td>20298.04</td>\n",
       "      <td>20307.73</td>\n",
       "      <td>0.517800</td>\n",
       "      <td>-9.35</td>\n",
       "    </tr>\n",
       "    <tr>\n",
       "      <th>2022-09-14 11:40:00</th>\n",
       "      <td>20288.56</td>\n",
       "      <td>20306.12</td>\n",
       "      <td>20306.12</td>\n",
       "      <td>20298.38</td>\n",
       "      <td>3.103144</td>\n",
       "      <td>-35.72</td>\n",
       "    </tr>\n",
       "    <tr>\n",
       "      <th>2022-09-14 11:45:00</th>\n",
       "      <td>20262.66</td>\n",
       "      <td>20296.83</td>\n",
       "      <td>20296.83</td>\n",
       "      <td>20262.66</td>\n",
       "      <td>1.463187</td>\n",
       "      <td>-56.59</td>\n",
       "    </tr>\n",
       "    <tr>\n",
       "      <th>2022-09-14 11:50:00</th>\n",
       "      <td>20206.07</td>\n",
       "      <td>20280.25</td>\n",
       "      <td>20265.84</td>\n",
       "      <td>20206.07</td>\n",
       "      <td>4.646182</td>\n",
       "      <td>33.56</td>\n",
       "    </tr>\n",
       "    <tr>\n",
       "      <th>2022-09-14 11:55:00</th>\n",
       "      <td>20070.85</td>\n",
       "      <td>20241.34</td>\n",
       "      <td>20220.60</td>\n",
       "      <td>20239.63</td>\n",
       "      <td>20.612595</td>\n",
       "      <td>-59.55</td>\n",
       "    </tr>\n",
       "  </tbody>\n",
       "</table>\n",
       "<p>288 rows × 6 columns</p>\n",
       "</div>"
      ],
      "text/plain": [
       "                          low      high      open     close     volume  \\\n",
       "time                                                                     \n",
       "2022-09-13 12:00:00  22130.26  22227.54  22130.26  22211.14   8.216148   \n",
       "2022-09-13 12:05:00  22209.00  22248.94  22209.00  22233.05   0.623299   \n",
       "2022-09-13 12:10:00  22197.12  22243.83  22232.48  22226.00   2.363756   \n",
       "2022-09-13 12:15:00  22224.36  22277.46  22224.46  22257.49   5.370969   \n",
       "2022-09-13 12:20:00  22229.40  22324.00  22256.24  22321.60   3.835224   \n",
       "...                       ...       ...       ...       ...        ...   \n",
       "2022-09-14 11:35:00  20291.39  20313.98  20298.04  20307.73   0.517800   \n",
       "2022-09-14 11:40:00  20288.56  20306.12  20306.12  20298.38   3.103144   \n",
       "2022-09-14 11:45:00  20262.66  20296.83  20296.83  20262.66   1.463187   \n",
       "2022-09-14 11:50:00  20206.07  20280.25  20265.84  20206.07   4.646182   \n",
       "2022-09-14 11:55:00  20070.85  20241.34  20220.60  20239.63  20.612595   \n",
       "\n",
       "                     pricechange  \n",
       "time                              \n",
       "2022-09-13 12:00:00        21.91  \n",
       "2022-09-13 12:05:00        -7.05  \n",
       "2022-09-13 12:10:00        31.49  \n",
       "2022-09-13 12:15:00        64.11  \n",
       "2022-09-13 12:20:00        15.50  \n",
       "...                          ...  \n",
       "2022-09-14 11:35:00        -9.35  \n",
       "2022-09-14 11:40:00       -35.72  \n",
       "2022-09-14 11:45:00       -56.59  \n",
       "2022-09-14 11:50:00        33.56  \n",
       "2022-09-14 11:55:00       -59.55  \n",
       "\n",
       "[288 rows x 6 columns]"
      ]
     },
     "execution_count": 29,
     "metadata": {},
     "output_type": "execute_result"
    }
   ],
   "source": [
    "dat"
   ]
  },
  {
   "cell_type": "code",
   "execution_count": null,
   "metadata": {},
   "outputs": [],
   "source": [
    "data.shape"
   ]
  }
 ],
 "metadata": {
  "kernelspec": {
   "display_name": "Python 3",
   "language": "python",
   "name": "python3"
  },
  "language_info": {
   "codemirror_mode": {
    "name": "ipython",
    "version": 3
   },
   "file_extension": ".py",
   "mimetype": "text/x-python",
   "name": "python",
   "nbconvert_exporter": "python",
   "pygments_lexer": "ipython3",
   "version": "3.8.10"
  }
 },
 "nbformat": 4,
 "nbformat_minor": 4
}
