{
 "cells": [
  {
   "cell_type": "code",
   "execution_count": 1,
   "metadata": {},
   "outputs": [],
   "source": [
    "# make all neccessary imports\n",
    "\n",
    "import cbpro as cb\n",
    "from cbpro.public_client import PublicClient\n",
    "import numpy as np\n",
    "import numpy.random as npr\n",
    "import pandas as pd\n",
    "import matplotlib.pyplot as plt"
   ]
  },
  {
   "cell_type": "code",
   "execution_count": 2,
   "metadata": {},
   "outputs": [
    {
     "data": {
      "text/html": [
       "<div>\n",
       "<style scoped>\n",
       "    .dataframe tbody tr th:only-of-type {\n",
       "        vertical-align: middle;\n",
       "    }\n",
       "\n",
       "    .dataframe tbody tr th {\n",
       "        vertical-align: top;\n",
       "    }\n",
       "\n",
       "    .dataframe thead th {\n",
       "        text-align: right;\n",
       "    }\n",
       "</style>\n",
       "<table border=\"1\" class=\"dataframe\">\n",
       "  <thead>\n",
       "    <tr style=\"text-align: right;\">\n",
       "      <th></th>\n",
       "      <th>time</th>\n",
       "      <th>low</th>\n",
       "      <th>high</th>\n",
       "      <th>open</th>\n",
       "      <th>close</th>\n",
       "      <th>volume</th>\n",
       "    </tr>\n",
       "  </thead>\n",
       "  <tbody>\n",
       "    <tr>\n",
       "      <th>0</th>\n",
       "      <td>1665060000</td>\n",
       "      <td>20539.96</td>\n",
       "      <td>20568.63</td>\n",
       "      <td>20554.78</td>\n",
       "      <td>20539.96</td>\n",
       "      <td>0.170333</td>\n",
       "    </tr>\n",
       "    <tr>\n",
       "      <th>1</th>\n",
       "      <td>1665059940</td>\n",
       "      <td>20560.46</td>\n",
       "      <td>20572.29</td>\n",
       "      <td>20572.29</td>\n",
       "      <td>20563.37</td>\n",
       "      <td>0.072092</td>\n",
       "    </tr>\n",
       "    <tr>\n",
       "      <th>2</th>\n",
       "      <td>1665059880</td>\n",
       "      <td>20558.50</td>\n",
       "      <td>20564.29</td>\n",
       "      <td>20558.50</td>\n",
       "      <td>20564.29</td>\n",
       "      <td>0.129142</td>\n",
       "    </tr>\n",
       "    <tr>\n",
       "      <th>3</th>\n",
       "      <td>1665059820</td>\n",
       "      <td>20555.74</td>\n",
       "      <td>20572.00</td>\n",
       "      <td>20555.95</td>\n",
       "      <td>20565.15</td>\n",
       "      <td>0.544595</td>\n",
       "    </tr>\n",
       "    <tr>\n",
       "      <th>4</th>\n",
       "      <td>1665059760</td>\n",
       "      <td>20558.76</td>\n",
       "      <td>20574.82</td>\n",
       "      <td>20574.82</td>\n",
       "      <td>20558.76</td>\n",
       "      <td>0.375491</td>\n",
       "    </tr>\n",
       "  </tbody>\n",
       "</table>\n",
       "</div>"
      ],
      "text/plain": [
       "         time       low      high      open     close    volume\n",
       "0  1665060000  20539.96  20568.63  20554.78  20539.96  0.170333\n",
       "1  1665059940  20560.46  20572.29  20572.29  20563.37  0.072092\n",
       "2  1665059880  20558.50  20564.29  20558.50  20564.29  0.129142\n",
       "3  1665059820  20555.74  20572.00  20555.95  20565.15  0.544595\n",
       "4  1665059760  20558.76  20574.82  20574.82  20558.76  0.375491"
      ]
     },
     "execution_count": 2,
     "metadata": {},
     "output_type": "execute_result"
    }
   ],
   "source": [
    "# initialize the public client\n",
    "pub = PublicClient()\n",
    "\n",
    "# get data\n",
    "dat = pd.DataFrame(pub.get_product_historic_rates(product_id='BTC-EUR'),\n",
    "                   columns=['time','low','high','open','close','volume'])\n",
    "\n",
    "# perform EDA on the retrieved data\n",
    "dat.head()"
   ]
  },
  {
   "cell_type": "code",
   "execution_count": 3,
   "metadata": {},
   "outputs": [],
   "source": [
    "# data wrangling\n",
    "# extract the needed variable (columns) and convert to numpy arrays for easy manipulation\n",
    "price = dat['close'].array \n",
    "pricechange = price[1:]-price[:-1]\n",
    "pricechange = np.hstack((np.array([np.nan]),pricechange))\n",
    "dat['pricechange'] = pricechange"
   ]
  },
  {
   "cell_type": "code",
   "execution_count": 4,
   "metadata": {},
   "outputs": [
    {
     "name": "stdout",
     "output_type": "stream",
     "text": [
      "      price        size  high\n",
      "0  20514.56      0.0305     1\n",
      "1  20513.53  0.24138648     1\n",
      "2  20513.01  0.24986182     1\n",
      "3  20512.28   0.2005966     1\n",
      "4  20511.13  0.14864288     1\n",
      "       price        size  high\n",
      "95     20690    0.018233     1\n",
      "96  20698.85  0.00009318     1\n",
      "97  20699.14  0.00186124     1\n",
      "98     20700  1.57090521     7\n",
      "99  20701.22  0.69707851     1\n",
      "20386.609099999998\n",
      "20588.917200000007\n"
     ]
    },
    {
     "data": {
      "image/png": "[encoded data removed]",
      "text/plain": [
       "<Figure size 432x288 with 1 Axes>"
      ]
     },
     "metadata": {
      "needs_background": "light"
     },
     "output_type": "display_data"
    }
   ],
   "source": [
    "# pd.DataFrame(pub.get_product_order_book(product_id='BTC-EUR', level=2),\n",
    "#             columns=['time','low','high'])\n",
    "\n",
    "bids = pub.get_product_order_book(product_id='BTC-EUR', level=2)['bids']\n",
    "asks = pub.get_product_order_book(product_id='BTC-EUR', level=2)['asks']\n",
    "\n",
    "bids = pd.DataFrame(bids, columns=['price','size','high'])[:100]\n",
    "asks = pd.DataFrame(asks, columns=['price','size','high'])[:100]\n",
    "print(bids.head())\n",
    "print(asks.tail())\n",
    "\n",
    "bid_vol = bids.price.astype(float) * bids.size.astype('float')\n",
    "ask_vol = asks.price.astype(float) * asks.size.astype('float')\n",
    "\n",
    "print(bids['price'][:100].astype('float').mean())\n",
    "print(asks['price'][:100].astype('float').mean())\n",
    "\n",
    "x = np.linspace(0,100,num=100)\n",
    "plt.bar(bids['price'][:100].astype('float'), bids['size'][:100].astype('float'), color='green') # buyers\n",
    "plt.bar(asks['price'][:100].astype('float'), asks['size'][:100].astype('float'), color='red') # sellers\n",
    "plt.show()"
   ]
  },
  {
   "cell_type": "code",
   "execution_count": 5,
   "metadata": {},
   "outputs": [
    {
     "data": {
      "text/plain": [
       "{'ask': '20520.28',\n",
       " 'bid': '20513.03',\n",
       " 'volume': '408.85362925',\n",
       " 'trade_id': 67915116,\n",
       " 'price': '20526.34',\n",
       " 'size': '0.00759221',\n",
       " 'time': '2022-10-06T12:45:47.596853Z'}"
      ]
     },
     "execution_count": 5,
     "metadata": {},
     "output_type": "execute_result"
    }
   ],
   "source": [
    "pub.get_product_ticker(product_id='BTC-EUR')"
   ]
  },
  {
   "cell_type": "code",
   "execution_count": 6,
   "metadata": {},
   "outputs": [
    {
     "name": "stdout",
     "output_type": "stream",
     "text": [
      "                            time  trade_id     price      size  side\n",
      "0    2022-10-06T12:45:47.596853Z  67915116  20526.34  0.007592   buy\n",
      "1    2022-10-06T12:45:29.699094Z  67915115  20532.67  0.046303  sell\n",
      "2    2022-10-06T12:45:19.376133Z  67915114  20532.64  0.000047  sell\n",
      "3    2022-10-06T12:45:17.801665Z  67915113  20532.67  0.000097  sell\n",
      "4     2022-10-06T12:45:17.43189Z  67915112  20532.67  0.003400  sell\n",
      "..                           ...       ...       ...       ...   ...\n",
      "445  2022-10-06T11:52:57.373711Z  67914671  20500.00  0.007250  sell\n",
      "446  2022-10-06T11:52:57.373711Z  67914670  20500.00  0.050000  sell\n",
      "447  2022-10-06T11:52:44.933281Z  67914669  20493.41  0.000253   buy\n",
      "448  2022-10-06T11:52:44.017365Z  67914668  20499.00  0.023652  sell\n",
      "449  2022-10-06T11:52:44.017365Z  67914667  20499.00  0.002000  sell\n",
      "\n",
      "[450 rows x 5 columns]\n",
      "(161, 5)\n",
      "(289, 5)\n"
     ]
    }
   ],
   "source": [
    "data = pub.get_product_trades(product_id='BTC-EUR', before='2022-09-13 12:00:00',\n",
    "                        after='2022-09-13 12:02:00', limit=None, result=None)\n",
    "\n",
    "trades = []\n",
    "while True:\n",
    "    if len(trades) >= 500:\n",
    "        break\n",
    "    trades.append(next(data))\n",
    "data = pd.DataFrame(trades)[:450]\n",
    "data['price'] = data['price'].astype('float')\n",
    "data['size'] = data['size'].astype('float')\n",
    "buy = data[(data.side == 'buy')]\n",
    "#print(buy)\n",
    "\n",
    "sell = data[(data.side == 'sell')]\n",
    "#print(sell)\n",
    "print(data)\n",
    "print(buy.shape)\n",
    "print(sell.shape)"
   ]
  },
  {
   "cell_type": "code",
   "execution_count": 38,
   "metadata": {},
   "outputs": [
    {
     "data": {
      "text/html": [
       "<div>\n",
       "<style scoped>\n",
       "    .dataframe tbody tr th:only-of-type {\n",
       "        vertical-align: middle;\n",
       "    }\n",
       "\n",
       "    .dataframe tbody tr th {\n",
       "        vertical-align: top;\n",
       "    }\n",
       "\n",
       "    .dataframe thead th {\n",
       "        text-align: right;\n",
       "    }\n",
       "</style>\n",
       "<table border=\"1\" class=\"dataframe\">\n",
       "  <thead>\n",
       "    <tr style=\"text-align: right;\">\n",
       "      <th></th>\n",
       "      <th>size</th>\n",
       "      <th>side</th>\n",
       "    </tr>\n",
       "    <tr>\n",
       "      <th>time</th>\n",
       "      <th></th>\n",
       "      <th></th>\n",
       "    </tr>\n",
       "  </thead>\n",
       "  <tbody>\n",
       "    <tr>\n",
       "      <th>2022-10-06T12:45:47.596853Z</th>\n",
       "      <td>0.007592</td>\n",
       "      <td>buy</td>\n",
       "    </tr>\n",
       "    <tr>\n",
       "      <th>2022-10-06T12:45:29.699094Z</th>\n",
       "      <td>0.046303</td>\n",
       "      <td>sell</td>\n",
       "    </tr>\n",
       "    <tr>\n",
       "      <th>2022-10-06T12:45:19.376133Z</th>\n",
       "      <td>0.000047</td>\n",
       "      <td>sell</td>\n",
       "    </tr>\n",
       "    <tr>\n",
       "      <th>2022-10-06T12:45:17.801665Z</th>\n",
       "      <td>0.000097</td>\n",
       "      <td>sell</td>\n",
       "    </tr>\n",
       "    <tr>\n",
       "      <th>2022-10-06T12:45:17.43189Z</th>\n",
       "      <td>0.003400</td>\n",
       "      <td>sell</td>\n",
       "    </tr>\n",
       "    <tr>\n",
       "      <th>...</th>\n",
       "      <td>...</td>\n",
       "      <td>...</td>\n",
       "    </tr>\n",
       "    <tr>\n",
       "      <th>2022-10-06T11:53:06.124838Z</th>\n",
       "      <td>0.004873</td>\n",
       "      <td>sell</td>\n",
       "    </tr>\n",
       "    <tr>\n",
       "      <th>2022-10-06T11:52:57.434579Z</th>\n",
       "      <td>0.059812</td>\n",
       "      <td>sell</td>\n",
       "    </tr>\n",
       "    <tr>\n",
       "      <th>2022-10-06T11:52:57.373711Z</th>\n",
       "      <td>0.226620</td>\n",
       "      <td>sell</td>\n",
       "    </tr>\n",
       "    <tr>\n",
       "      <th>2022-10-06T11:52:44.933281Z</th>\n",
       "      <td>0.000253</td>\n",
       "      <td>buy</td>\n",
       "    </tr>\n",
       "    <tr>\n",
       "      <th>2022-10-06T11:52:44.017365Z</th>\n",
       "      <td>0.025652</td>\n",
       "      <td>sell</td>\n",
       "    </tr>\n",
       "  </tbody>\n",
       "</table>\n",
       "<p>353 rows × 2 columns</p>\n",
       "</div>"
      ],
      "text/plain": [
       "                                 size  side\n",
       "time                                       \n",
       "2022-10-06T12:45:47.596853Z  0.007592   buy\n",
       "2022-10-06T12:45:29.699094Z  0.046303  sell\n",
       "2022-10-06T12:45:19.376133Z  0.000047  sell\n",
       "2022-10-06T12:45:17.801665Z  0.000097  sell\n",
       "2022-10-06T12:45:17.43189Z   0.003400  sell\n",
       "...                               ...   ...\n",
       "2022-10-06T11:53:06.124838Z  0.004873  sell\n",
       "2022-10-06T11:52:57.434579Z  0.059812  sell\n",
       "2022-10-06T11:52:57.373711Z  0.226620  sell\n",
       "2022-10-06T11:52:44.933281Z  0.000253   buy\n",
       "2022-10-06T11:52:44.017365Z  0.025652  sell\n",
       "\n",
       "[353 rows x 2 columns]"
      ]
     },
     "execution_count": 38,
     "metadata": {},
     "output_type": "execute_result"
    }
   ],
   "source": [
    "size= data[['time','size', 'side']]\n",
    "size=size.groupby(['time', 'side']).sum()[::-1]\n",
    "tmp = size.index\n",
    "size.index,size['side'] = tmp.get_level_values('time'),tmp.get_level_values('side')\n",
    "size"
   ]
  },
  {
   "cell_type": "code",
   "execution_count": 41,
   "metadata": {},
   "outputs": [
    {
     "name": "stdout",
     "output_type": "stream",
     "text": [
      "                                price  side\n",
      "time                                       \n",
      "2022-10-06T12:45:47.596853Z  20526.34   buy\n",
      "2022-10-06T12:45:29.699094Z  20532.67  sell\n",
      "2022-10-06T12:45:19.376133Z  20532.64  sell\n",
      "2022-10-06T12:45:17.801665Z  20532.67  sell\n",
      "2022-10-06T12:45:17.43189Z   20532.67  sell\n",
      "...                               ...   ...\n",
      "2022-10-06T11:53:06.124838Z  20504.25  sell\n",
      "2022-10-06T11:52:57.434579Z  20504.70  sell\n",
      "2022-10-06T11:52:57.373711Z  20500.00  sell\n",
      "2022-10-06T11:52:44.933281Z  20493.41   buy\n",
      "2022-10-06T11:52:44.017365Z  20499.00  sell\n",
      "\n",
      "[353 rows x 2 columns]\n"
     ]
    }
   ],
   "source": [
    "price = data[['time','price', 'side']]\n",
    "price = price.groupby(['time']).first()[::-1]\n",
    "print(price)"
   ]
  },
  {
   "cell_type": "code",
   "execution_count": 87,
   "metadata": {},
   "outputs": [
    {
     "data": {
      "image/png": "[encoded data removed]",
      "text/plain": [
       "<Figure size 432x288 with 2 Axes>"
      ]
     },
     "metadata": {
      "needs_background": "light"
     },
     "output_type": "display_data"
    }
   ],
   "source": [
    "fig, axs = plt.subplots(1,2)\n",
    "axs[0].hist(size['size'], bins=100)\n",
    "axs[1].hist(price['price'], bins=100)\n",
    "plt.show()"
   ]
  },
  {
   "cell_type": "code",
   "execution_count": 37,
   "metadata": {},
   "outputs": [
    {
     "data": {
      "text/plain": [
       "Index(['buy', 'sell', 'sell', 'sell', 'sell', 'sell', 'buy', 'sell', 'buy',\n",
       "       'buy',\n",
       "       ...\n",
       "       'sell', 'buy', 'sell', 'sell', 'sell', 'sell', 'sell', 'sell', 'buy',\n",
       "       'sell'],\n",
       "      dtype='object', name='side', length=353)"
      ]
     },
     "execution_count": 37,
     "metadata": {},
     "output_type": "execute_result"
    }
   ],
   "source": [
    "size.index.get_level_values('side')"
   ]
  },
  {
   "cell_type": "code",
   "execution_count": 10,
   "metadata": {},
   "outputs": [
    {
     "data": {
      "text/plain": [
       "9.04425990909091"
      ]
     },
     "execution_count": 10,
     "metadata": {},
     "output_type": "execute_result"
    }
   ],
   "source": [
    "# find b as discussed\n",
    "import datetime as dt\n",
    "n = len(price)\n",
    "times = pd.to_datetime(data['time'])\n",
    "# dt.datetime(time_diff)\n",
    "diff = times.iloc[0] - times.iloc[-1]\n",
    "diff = diff.total_seconds()\n",
    "\n",
    "b = (n-1)/diff\n",
    "1/b\n"
   ]
  },
  {
   "cell_type": "code",
   "execution_count": 12,
   "metadata": {},
   "outputs": [
    {
     "data": {
      "text/plain": [
       "0     2022-10-06 12:45:47.596853+00:00\n",
       "1     2022-10-06 12:45:29.699094+00:00\n",
       "2     2022-10-06 12:45:19.376133+00:00\n",
       "3     2022-10-06 12:45:17.801665+00:00\n",
       "4     2022-10-06 12:45:17.431890+00:00\n",
       "                    ...               \n",
       "445   2022-10-06 11:52:57.373711+00:00\n",
       "446   2022-10-06 11:52:57.373711+00:00\n",
       "447   2022-10-06 11:52:44.933281+00:00\n",
       "448   2022-10-06 11:52:44.017365+00:00\n",
       "449   2022-10-06 11:52:44.017365+00:00\n",
       "Name: time, Length: 450, dtype: datetime64[ns, UTC]"
      ]
     },
     "execution_count": 12,
     "metadata": {},
     "output_type": "execute_result"
    }
   ],
   "source": [
    "timesnew = pd.DataFrame(size,price)"
   ]
  },
  {
   "cell_type": "code",
   "execution_count": 44,
   "metadata": {},
   "outputs": [],
   "source": [
    "pb = price[price['side']=='buy']\n",
    "ps = price[price['side']=='sell']"
   ]
  },
  {
   "cell_type": "code",
   "execution_count": 86,
   "metadata": {},
   "outputs": [
    {
     "name": "stdout",
     "output_type": "stream",
     "text": [
      "23.751220686567162\n"
     ]
    },
    {
     "data": {
      "text/plain": [
       "(0, 10)"
      ]
     },
     "execution_count": 86,
     "metadata": {},
     "output_type": "execute_result"
    },
    {
     "data": {
      "image/png": "[encoded data removed]",
      "text/plain": [
       "<Figure size 432x288 with 1 Axes>"
      ]
     },
     "metadata": {
      "needs_background": "light"
     },
     "output_type": "display_data"
    }
   ],
   "source": [
    "timeb = pd.to_datetime(pb.index)\n",
    "pd.Series((timeb[:-1]-timeb[1:]).total_seconds()).hist(bins=500)\n",
    "bb = (timeb.shape[0]-1)/(timeb[0]-timeb[-1]).total_seconds()\n",
    "print(1/bb)\n",
    "tmp = np.arange(0,200,0.01)\n",
    "plt.plot(tmp,bb*np.exp(-bb*tmp)*(timeb.shape[0]-1)*200/500)\n",
    "plt.xlim((0,200))\n",
    "plt.ylim((0,10))"
   ]
  },
  {
   "cell_type": "code",
   "execution_count": 67,
   "metadata": {},
   "outputs": [
    {
     "name": "stdout",
     "output_type": "stream",
     "text": [
      "14.588395064516128\n"
     ]
    },
    {
     "data": {
      "image/png": "[encoded data removed]",
      "text/plain": [
       "<Figure size 432x288 with 1 Axes>"
      ]
     },
     "metadata": {
      "needs_background": "light"
     },
     "output_type": "display_data"
    }
   ],
   "source": [
    "times = pd.to_datetime(ps.index)\n",
    "pd.Series((times[:-1]-times[1:]).total_seconds()).hist()\n",
    "bs = (times.shape[0]-1)/(times[0]-times[-1]).total_seconds()\n",
    "print(1/bs)"
   ]
  },
  {
   "cell_type": "code",
   "execution_count": null,
   "metadata": {},
   "outputs": [],
   "source": []
  }
 ],
 "metadata": {
  "kernelspec": {
   "display_name": "Python 3",
   "language": "python",
   "name": "python3"
  },
  "language_info": {
   "codemirror_mode": {
    "name": "ipython",
    "version": 3
   },
   "file_extension": ".py",
   "mimetype": "text/x-python",
   "name": "python",
   "nbconvert_exporter": "python",
   "pygments_lexer": "ipython3",
   "version": "3.8.10"
  },
  "vscode": {
   "interpreter": {
    "hash": "06840b9b8d79d340baad9893048a12fad6f5c1d250942c42e00c35391e5d1892"
   }
  }
 },
 "nbformat": 4,
 "nbformat_minor": 2
}
