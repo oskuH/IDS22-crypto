{
 "cells": [
  {
   "cell_type": "code",
   "execution_count": 2,
   "metadata": {},
   "outputs": [],
   "source": [
    "# make all neccessary imports\n",
    "\n",
    "import cbpro as cb\n",
    "from cbpro.public_client import PublicClient\n",
    "import numpy as np\n",
    "import numpy.random as npr\n",
    "import pandas as pd\n",
    "import matplotlib.pyplot as plt"
   ]
  },
  {
   "cell_type": "code",
   "execution_count": 3,
   "metadata": {},
   "outputs": [
    {
     "data": {
      "text/html": [
       "<div>\n",
       "<style scoped>\n",
       "    .dataframe tbody tr th:only-of-type {\n",
       "        vertical-align: middle;\n",
       "    }\n",
       "\n",
       "    .dataframe tbody tr th {\n",
       "        vertical-align: top;\n",
       "    }\n",
       "\n",
       "    .dataframe thead th {\n",
       "        text-align: right;\n",
       "    }\n",
       "</style>\n",
       "<table border=\"1\" class=\"dataframe\">\n",
       "  <thead>\n",
       "    <tr style=\"text-align: right;\">\n",
       "      <th></th>\n",
       "      <th>time</th>\n",
       "      <th>low</th>\n",
       "      <th>high</th>\n",
       "      <th>open</th>\n",
       "      <th>close</th>\n",
       "      <th>volume</th>\n",
       "    </tr>\n",
       "  </thead>\n",
       "  <tbody>\n",
       "    <tr>\n",
       "      <th>0</th>\n",
       "      <td>1665053400</td>\n",
       "      <td>20367.41</td>\n",
       "      <td>20367.55</td>\n",
       "      <td>20367.55</td>\n",
       "      <td>20367.41</td>\n",
       "      <td>0.010104</td>\n",
       "    </tr>\n",
       "    <tr>\n",
       "      <th>1</th>\n",
       "      <td>1665053280</td>\n",
       "      <td>20362.77</td>\n",
       "      <td>20377.01</td>\n",
       "      <td>20377.01</td>\n",
       "      <td>20371.74</td>\n",
       "      <td>0.012434</td>\n",
       "    </tr>\n",
       "    <tr>\n",
       "      <th>2</th>\n",
       "      <td>1665053220</td>\n",
       "      <td>20369.45</td>\n",
       "      <td>20384.16</td>\n",
       "      <td>20380.52</td>\n",
       "      <td>20369.45</td>\n",
       "      <td>0.166325</td>\n",
       "    </tr>\n",
       "    <tr>\n",
       "      <th>3</th>\n",
       "      <td>1665053100</td>\n",
       "      <td>20383.80</td>\n",
       "      <td>20384.78</td>\n",
       "      <td>20383.83</td>\n",
       "      <td>20384.78</td>\n",
       "      <td>0.992370</td>\n",
       "    </tr>\n",
       "    <tr>\n",
       "      <th>4</th>\n",
       "      <td>1665052980</td>\n",
       "      <td>20390.45</td>\n",
       "      <td>20394.00</td>\n",
       "      <td>20394.00</td>\n",
       "      <td>20390.45</td>\n",
       "      <td>0.043967</td>\n",
       "    </tr>\n",
       "  </tbody>\n",
       "</table>\n",
       "</div>"
      ],
      "text/plain": [
       "         time       low      high      open     close    volume\n",
       "0  1665053400  20367.41  20367.55  20367.55  20367.41  0.010104\n",
       "1  1665053280  20362.77  20377.01  20377.01  20371.74  0.012434\n",
       "2  1665053220  20369.45  20384.16  20380.52  20369.45  0.166325\n",
       "3  1665053100  20383.80  20384.78  20383.83  20384.78  0.992370\n",
       "4  1665052980  20390.45  20394.00  20394.00  20390.45  0.043967"
      ]
     },
     "execution_count": 3,
     "metadata": {},
     "output_type": "execute_result"
    }
   ],
   "source": [
    "# initialize the public client\n",
    "pub = PublicClient()\n",
    "\n",
    "# get data\n",
    "dat = pd.DataFrame(pub.get_product_historic_rates(product_id='BTC-EUR'),\n",
    "                   columns=['time','low','high','open','close','volume'])\n",
    "\n",
    "# perform EDA on the retrieved data\n",
    "dat.head()"
   ]
  },
  {
   "cell_type": "code",
   "execution_count": 4,
   "metadata": {},
   "outputs": [],
   "source": [
    "# data wrangling\n",
    "# extract the needed variable (columns) and convert to numpy arrays for easy manipulation\n",
    "price = dat['close'].array \n",
    "pricechange = price[1:]-price[:-1]\n",
    "pricechange = np.hstack((np.array([np.nan]),pricechange))\n",
    "dat['pricechange'] = pricechange"
   ]
  },
  {
   "cell_type": "code",
   "execution_count": 5,
   "metadata": {},
   "outputs": [
    {
     "name": "stdout",
     "output_type": "stream",
     "text": [
      "      price        size  high\n",
      "0  20375.03        0.07     1\n",
      "1  20374.38       0.059     1\n",
      "2  20373.47  0.05193742     2\n",
      "3  20373.46  0.07450546     1\n",
      "4   20371.7   0.0496747     1\n",
      "       price        size  high\n",
      "95     20689    0.000142     1\n",
      "96  20689.04  0.00125222     1\n",
      "97     20690    0.018233     1\n",
      "98  20698.85  0.00009318     1\n",
      "99  20699.14  0.00186124     1\n",
      "20308.6053\n",
      "20501.9018\n"
     ]
    },
    {
     "data": {
      "image/png": "[encoded data removed]",
      "text/plain": [
       "<Figure size 640x480 with 1 Axes>"
      ]
     },
     "metadata": {},
     "output_type": "display_data"
    }
   ],
   "source": [
    "# pd.DataFrame(pub.get_product_order_book(product_id='BTC-EUR', level=2),\n",
    "#             columns=['time','low','high'])\n",
    "\n",
    "bids = pub.get_product_order_book(product_id='BTC-EUR', level=2)['bids']\n",
    "asks = pub.get_product_order_book(product_id='BTC-EUR', level=2)['asks']\n",
    "\n",
    "bids = pd.DataFrame(bids, columns=['price','size','high'])[:100]\n",
    "asks = pd.DataFrame(asks, columns=['price','size','high'])[:100]\n",
    "print(bids.head())\n",
    "print(asks.tail())\n",
    "\n",
    "bid_vol = bids.price.astype(float) * bids.size.astype('float')\n",
    "ask_vol = asks.price.astype(float) * asks.size.astype('float')\n",
    "\n",
    "print(bids['price'][:100].astype('float').mean())\n",
    "print(asks['price'][:100].astype('float').mean())\n",
    "\n",
    "x = np.linspace(0,100,num=100)\n",
    "plt.bar(bids['price'][:100].astype('float'), bids['size'][:100].astype('float'), color='green') # buyers\n",
    "plt.bar(asks['price'][:100].astype('float'), asks['size'][:100].astype('float'), color='red') # sellers\n",
    "plt.show()"
   ]
  },
  {
   "cell_type": "code",
   "execution_count": 6,
   "metadata": {},
   "outputs": [
    {
     "data": {
      "text/plain": [
       "{'ask': '20379.7',\n",
       " 'bid': '20374.6',\n",
       " 'volume': '410.87463065',\n",
       " 'trade_id': 67914366,\n",
       " 'price': '20374.24',\n",
       " 'size': '0.00042959',\n",
       " 'time': '2022-10-06T10:50:38.508216Z'}"
      ]
     },
     "execution_count": 6,
     "metadata": {},
     "output_type": "execute_result"
    }
   ],
   "source": [
    "pub.get_product_ticker(product_id='BTC-EUR')"
   ]
  },
  {
   "cell_type": "code",
   "execution_count": 7,
   "metadata": {},
   "outputs": [
    {
     "name": "stdout",
     "output_type": "stream",
     "text": [
      "                            time  trade_id     price      size  side\n",
      "0    2022-10-06T10:50:38.508216Z  67914366  20374.24  0.000430   buy\n",
      "1    2022-10-06T10:50:37.690036Z  67914365  20379.70  0.000098  sell\n",
      "2    2022-10-06T10:50:23.278605Z  67914364  20367.41  0.010000   buy\n",
      "3    2022-10-06T10:50:08.897888Z  67914363  20367.55  0.000104   buy\n",
      "4    2022-10-06T10:49:47.425757Z  67914362  20371.74  0.001030  sell\n",
      "..                           ...       ...       ...       ...   ...\n",
      "445  2022-10-06T09:18:53.758659Z  67913921  20367.14  0.000006  sell\n",
      "446  2022-10-06T09:18:53.754194Z  67913920  20367.14  0.074420  sell\n",
      "447  2022-10-06T09:18:53.724712Z  67913919  20366.72  0.036869  sell\n",
      "448  2022-10-06T09:18:53.709408Z  67913918  20366.72  0.033131  sell\n",
      "449  2022-10-06T09:18:53.705636Z  67913917  20366.71  0.030072  sell\n",
      "\n",
      "[450 rows x 5 columns]\n",
      "(181, 5)\n",
      "(269, 5)\n"
     ]
    }
   ],
   "source": [
    "data = pub.get_product_trades(product_id='BTC-EUR', before='2022-09-13 12:00:00',\n",
    "                        after='2022-09-13 12:02:00', limit=None, result=None)\n",
    "\n",
    "trades = []\n",
    "while True:\n",
    "    if len(trades) >= 500:\n",
    "        break\n",
    "    trades.append(next(data))\n",
    "data = pd.DataFrame(trades)[:450]\n",
    "data['price'] = data['price'].astype('float')\n",
    "data['size'] = data['size'].astype('float')\n",
    "buy = data[(data.side == 'buy')]\n",
    "#print(buy)\n",
    "\n",
    "sell = data[(data.side == 'sell')]\n",
    "#print(sell)\n",
    "print(data)\n",
    "print(buy.shape)\n",
    "print(sell.shape)"
   ]
  },
  {
   "cell_type": "code",
   "execution_count": 15,
   "metadata": {},
   "outputs": [
    {
     "name": "stdout",
     "output_type": "stream",
     "text": [
      "                                      size\n",
      "time                        side          \n",
      "2022-10-06T10:50:38.508216Z buy   0.000430\n",
      "2022-10-06T10:50:37.690036Z sell  0.000098\n",
      "2022-10-06T10:50:23.278605Z buy   0.010000\n",
      "2022-10-06T10:50:08.897888Z buy   0.000104\n",
      "2022-10-06T10:49:47.425757Z sell  0.001030\n",
      "...                                    ...\n",
      "2022-10-06T09:18:53.758659Z sell  0.000006\n",
      "2022-10-06T09:18:53.754194Z sell  0.074420\n",
      "2022-10-06T09:18:53.724712Z sell  0.036869\n",
      "2022-10-06T09:18:53.709408Z sell  0.033131\n",
      "2022-10-06T09:18:53.705636Z sell  0.030072\n",
      "\n",
      "[363 rows x 1 columns]\n",
      "                                     price\n",
      "time                        side          \n",
      "2022-10-06T10:50:38.508216Z buy   20374.24\n",
      "2022-10-06T10:50:37.690036Z sell  20379.70\n",
      "2022-10-06T10:50:23.278605Z buy   20367.41\n",
      "2022-10-06T10:50:08.897888Z buy   20367.55\n",
      "2022-10-06T10:49:47.425757Z sell  20371.74\n",
      "...                                    ...\n",
      "2022-10-06T09:18:53.758659Z sell  20367.14\n",
      "2022-10-06T09:18:53.754194Z sell  20367.14\n",
      "2022-10-06T09:18:53.724712Z sell  20366.72\n",
      "2022-10-06T09:18:53.709408Z sell  20366.72\n",
      "2022-10-06T09:18:53.705636Z sell  20366.71\n",
      "\n",
      "[363 rows x 1 columns]\n"
     ]
    },
    {
     "data": {
      "image/png": "[encoded data removed]",
      "text/plain": [
       "<Figure size 640x480 with 2 Axes>"
      ]
     },
     "metadata": {},
     "output_type": "display_data"
    }
   ],
   "source": [
    "size= data[['size', 'side']]\n",
    "size.index = data.time\n",
    "size=size.groupby(['time', 'side']).sum()[::-1]\n",
    "print(size)\n",
    "\n",
    "price = data[['price', 'side']]\n",
    "price.index = data.time\n",
    "price =price.groupby(['time', 'side']).first()[::-1]\n",
    "print(price)\n",
    "\n",
    "fig, axs = plt.subplots(1,2)\n",
    "axs[0].hist(size, bins=100)\n",
    "axs[1].hist(price, bins=100)\n",
    "plt.show()\n"
   ]
  },
  {
   "cell_type": "code",
   "execution_count": 34,
   "metadata": {},
   "outputs": [
    {
     "data": {
      "text/plain": [
       "(array([44., 57., 34., 29., 82., 29., 41., 67., 29., 38.]),\n",
       " array([19271.38812159, 19271.39449289, 19271.40086419, 19271.40723549,\n",
       "        19271.41360679, 19271.41997809, 19271.42634939, 19271.43272069,\n",
       "        19271.43909199, 19271.44546329, 19271.45183459]),\n",
       " <BarContainer object of 10 artists>)"
      ]
     },
     "execution_count": 34,
     "metadata": {},
     "output_type": "execute_result"
    },
    {
     "data": {
      "image/png": "[encoded data removed]",
      "text/plain": [
       "<Figure size 640x480 with 1 Axes>"
      ]
     },
     "metadata": {},
     "output_type": "display_data"
    }
   ],
   "source": [
    "# find b as discussed\n",
    "import datetime as dt\n",
    "n = len(price)\n",
    "times = pd.to_datetime(data['time'])\n",
    "# dt.datetime(time_diff)\n",
    "diff = times.iloc[0] - times.iloc[-1]\n",
    "diff = diff.total_seconds()\n",
    "\n",
    "b = (n-1)/diff\n",
    "1/b\n",
    "\n",
    "plt.hist(times)"
   ]
  }
 ],
 "metadata": {
  "kernelspec": {
   "display_name": "Python 3.8.10 ('data_11001')",
   "language": "python",
   "name": "python3"
  },
  "language_info": {
   "codemirror_mode": {
    "name": "ipython",
    "version": 3
   },
   "file_extension": ".py",
   "mimetype": "text/x-python",
   "name": "python",
   "nbconvert_exporter": "python",
   "pygments_lexer": "ipython3",
   "version": "3.8.10"
  },
  "orig_nbformat": 4,
  "vscode": {
   "interpreter": {
    "hash": "06840b9b8d79d340baad9893048a12fad6f5c1d250942c42e00c35391e5d1892"
   }
  }
 },
 "nbformat": 4,
 "nbformat_minor": 2
}
