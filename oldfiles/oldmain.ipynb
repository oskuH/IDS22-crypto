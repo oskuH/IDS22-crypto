{
 "cells": [
  {
   "cell_type": "code",
   "execution_count": 1,
   "metadata": {},
   "outputs": [],
   "source": [
    "# make all neccessary imports\n",
    "\n",
    "import cbpro as cb\n",
    "from cbpro.public_client import PublicClient\n",
    "import numpy as np\n",
    "import numpy.random as npr\n",
    "import pandas as pd\n",
    "import matplotlib.pyplot as plt"
   ]
  },
  {
   "cell_type": "code",
   "execution_count": 2,
   "metadata": {},
   "outputs": [
    {
     "data": {
      "text/html": [
       "<div>\n",
       "<style scoped>\n",
       "    .dataframe tbody tr th:only-of-type {\n",
       "        vertical-align: middle;\n",
       "    }\n",
       "\n",
       "    .dataframe tbody tr th {\n",
       "        vertical-align: top;\n",
       "    }\n",
       "\n",
       "    .dataframe thead th {\n",
       "        text-align: right;\n",
       "    }\n",
       "</style>\n",
       "<table border=\"1\" class=\"dataframe\">\n",
       "  <thead>\n",
       "    <tr style=\"text-align: right;\">\n",
       "      <th></th>\n",
       "      <th>time</th>\n",
       "      <th>low</th>\n",
       "      <th>high</th>\n",
       "      <th>open</th>\n",
       "      <th>close</th>\n",
       "      <th>volume</th>\n",
       "    </tr>\n",
       "  </thead>\n",
       "  <tbody>\n",
       "    <tr>\n",
       "      <th>0</th>\n",
       "      <td>1665074520</td>\n",
       "      <td>20476.87</td>\n",
       "      <td>20476.99</td>\n",
       "      <td>20476.87</td>\n",
       "      <td>20476.99</td>\n",
       "      <td>0.003240</td>\n",
       "    </tr>\n",
       "    <tr>\n",
       "      <th>1</th>\n",
       "      <td>1665074460</td>\n",
       "      <td>20472.05</td>\n",
       "      <td>20480.95</td>\n",
       "      <td>20472.05</td>\n",
       "      <td>20480.95</td>\n",
       "      <td>0.287444</td>\n",
       "    </tr>\n",
       "    <tr>\n",
       "      <th>2</th>\n",
       "      <td>1665074400</td>\n",
       "      <td>20471.02</td>\n",
       "      <td>20480.95</td>\n",
       "      <td>20477.54</td>\n",
       "      <td>20480.95</td>\n",
       "      <td>0.102460</td>\n",
       "    </tr>\n",
       "    <tr>\n",
       "      <th>3</th>\n",
       "      <td>1665074340</td>\n",
       "      <td>20468.88</td>\n",
       "      <td>20475.50</td>\n",
       "      <td>20469.53</td>\n",
       "      <td>20474.32</td>\n",
       "      <td>0.033659</td>\n",
       "    </tr>\n",
       "    <tr>\n",
       "      <th>4</th>\n",
       "      <td>1665074220</td>\n",
       "      <td>20463.77</td>\n",
       "      <td>20475.74</td>\n",
       "      <td>20463.77</td>\n",
       "      <td>20475.74</td>\n",
       "      <td>0.134072</td>\n",
       "    </tr>\n",
       "  </tbody>\n",
       "</table>\n",
       "</div>"
      ],
      "text/plain": [
       "         time       low      high      open     close    volume\n",
       "0  1665074520  20476.87  20476.99  20476.87  20476.99  0.003240\n",
       "1  1665074460  20472.05  20480.95  20472.05  20480.95  0.287444\n",
       "2  1665074400  20471.02  20480.95  20477.54  20480.95  0.102460\n",
       "3  1665074340  20468.88  20475.50  20469.53  20474.32  0.033659\n",
       "4  1665074220  20463.77  20475.74  20463.77  20475.74  0.134072"
      ]
     },
     "execution_count": 2,
     "metadata": {},
     "output_type": "execute_result"
    }
   ],
   "source": [
    "# initialize the public client\n",
    "pub = PublicClient()\n",
    "\n",
    "# get data\n",
    "dat = pd.DataFrame(pub.get_product_historic_rates(product_id='BTC-EUR'),\n",
    "                   columns=['time','low','high','open','close','volume'])\n",
    "\n",
    "# perform EDA on the retrieved data\n",
    "dat.head()"
   ]
  },
  {
   "cell_type": "code",
   "execution_count": 3,
   "metadata": {},
   "outputs": [],
   "source": [
    "# data wrangling\n",
    "# extract the needed variable (columns) and convert to numpy arrays for easy manipulation\n",
    "price = dat['close'].array \n",
    "pricechange = price[1:]-price[:-1]\n",
    "pricechange = np.hstack((np.array([np.nan]),pricechange))\n",
    "dat['pricechange'] = pricechange"
   ]
  },
  {
   "cell_type": "code",
   "execution_count": 4,
   "metadata": {},
   "outputs": [
    {
     "name": "stdout",
     "output_type": "stream",
     "text": [
      "      price        size  high\n",
      "0  20479.25      0.0305     1\n",
      "1  20477.18  0.03965074     1\n",
      "2   20474.6  0.02360009     1\n",
      "3  20474.59       0.059     1\n",
      "4  20473.61   0.2039714     1\n",
      "       price        size  high\n",
      "95     20689    0.000142     1\n",
      "96  20689.04  0.00125222     1\n",
      "97  20689.84  0.00097813     1\n",
      "98     20690    0.018233     1\n",
      "99  20698.85  0.00009318     1\n",
      "20350.6023\n",
      "20563.1648\n"
     ]
    },
    {
     "data": {
      "image/png": "[encoded data removed]",
      "text/plain": [
       "<Figure size 432x288 with 1 Axes>"
      ]
     },
     "metadata": {
      "needs_background": "light"
     },
     "output_type": "display_data"
    }
   ],
   "source": [
    "# pd.DataFrame(pub.get_product_order_book(product_id='BTC-EUR', level=2),\n",
    "#             columns=['time','low','high'])\n",
    "\n",
    "bids = pub.get_product_order_book(product_id='BTC-EUR', level=2)['bids']\n",
    "asks = pub.get_product_order_book(product_id='BTC-EUR', level=2)['asks']\n",
    "\n",
    "bids = pd.DataFrame(bids, columns=['price','size','high'])[:100]\n",
    "asks = pd.DataFrame(asks, columns=['price','size','high'])[:100]\n",
    "print(bids.head())\n",
    "print(asks.tail())\n",
    "\n",
    "bid_vol = bids.price.astype(float) * bids.size.astype('float')\n",
    "ask_vol = asks.price.astype(float) * asks.size.astype('float')\n",
    "\n",
    "print(bids['price'][:100].astype('float').mean())\n",
    "print(asks['price'][:100].astype('float').mean())\n",
    "\n",
    "x = np.linspace(0,100,num=100)\n",
    "plt.bar(bids['price'][:100].astype('float'), bids['size'][:100].astype('float'), color='green') # buyers\n",
    "plt.bar(asks['price'][:100].astype('float'), asks['size'][:100].astype('float'), color='red') # sellers\n",
    "plt.show()"
   ]
  },
  {
   "cell_type": "code",
   "execution_count": 5,
   "metadata": {},
   "outputs": [
    {
     "data": {
      "text/plain": [
       "{'ask': '20481.35',\n",
       " 'bid': '20479.25',\n",
       " 'volume': '401.28520286',\n",
       " 'trade_id': 67917821,\n",
       " 'price': '20476.99',\n",
       " 'size': '0.00005951',\n",
       " 'time': '2022-10-06T16:42:04.230574Z'}"
      ]
     },
     "execution_count": 5,
     "metadata": {},
     "output_type": "execute_result"
    }
   ],
   "source": [
    "pub.get_product_ticker(product_id='BTC-EUR')"
   ]
  },
  {
   "cell_type": "code",
   "execution_count": 6,
   "metadata": {},
   "outputs": [
    {
     "name": "stdout",
     "output_type": "stream",
     "text": [
      "                                time  trade_id     price      size  side\n",
      "0   2022-10-06 16:42:04.200000+00:00  67917821  20476.99  0.000060  sell\n",
      "1   2022-10-06 16:42:02.400000+00:00  67917820  20476.87  0.003180  sell\n",
      "2   2022-10-06 16:41:57.200000+00:00  67917819  20480.95  0.000041  sell\n",
      "3   2022-10-06 16:41:48.200000+00:00  67917818  20478.39  0.000400  sell\n",
      "4   2022-10-06 16:41:42.400000+00:00  67917817  20478.63  0.000485  sell\n",
      "..                               ...       ...       ...       ...   ...\n",
      "445 2022-10-06 15:47:11.800000+00:00  67917376  20447.89  0.108998  sell\n",
      "446 2022-10-06 15:47:11.800000+00:00  67917375  20447.50  0.167890  sell\n",
      "447 2022-10-06 15:47:11.800000+00:00  67917374  20447.48  0.034356  sell\n",
      "448 2022-10-06 15:47:11.800000+00:00  67917373  20445.72  0.059000  sell\n",
      "449 2022-10-06 15:47:11.600000+00:00  67917372  20447.40  0.000006  sell\n",
      "\n",
      "[450 rows x 5 columns]\n",
      "(198, 5)\n",
      "(252, 5)\n"
     ]
    }
   ],
   "source": [
    "data = pub.get_product_trades(product_id='BTC-EUR', before='2022-09-13 12:00:00',\n",
    "                        after='2022-09-13 12:02:00', limit=None, result=None)\n",
    "\n",
    "trades = []\n",
    "while True:\n",
    "    if len(trades) >= 500:\n",
    "        break\n",
    "    trades.append(next(data))\n",
    "data = pd.DataFrame(trades)[:450]\n",
    "data['price'] = data['price'].astype('float')\n",
    "data['size'] = data['size'].astype('float')\n",
    "buy = data[(data.side == 'buy')]\n",
    "#print(buy)\n",
    "\n",
    "sell = data[(data.side == 'sell')]\n",
    "#print(sell)\n",
    "\n",
    "data['time'] = pd.to_datetime(data['time']).round('200L')\n",
    "print(data)\n",
    "print(buy.shape)\n",
    "print(sell.shape)"
   ]
  },
  {
   "cell_type": "code",
   "execution_count": 7,
   "metadata": {},
   "outputs": [
    {
     "data": {
      "text/html": [
       "<div>\n",
       "<style scoped>\n",
       "    .dataframe tbody tr th:only-of-type {\n",
       "        vertical-align: middle;\n",
       "    }\n",
       "\n",
       "    .dataframe tbody tr th {\n",
       "        vertical-align: top;\n",
       "    }\n",
       "\n",
       "    .dataframe thead th {\n",
       "        text-align: right;\n",
       "    }\n",
       "</style>\n",
       "<table border=\"1\" class=\"dataframe\">\n",
       "  <thead>\n",
       "    <tr style=\"text-align: right;\">\n",
       "      <th></th>\n",
       "      <th>size</th>\n",
       "      <th>side</th>\n",
       "    </tr>\n",
       "    <tr>\n",
       "      <th>time</th>\n",
       "      <th></th>\n",
       "      <th></th>\n",
       "    </tr>\n",
       "  </thead>\n",
       "  <tbody>\n",
       "    <tr>\n",
       "      <th>2022-10-06 16:42:04.200000+00:00</th>\n",
       "      <td>0.000060</td>\n",
       "      <td>sell</td>\n",
       "    </tr>\n",
       "    <tr>\n",
       "      <th>2022-10-06 16:42:02.400000+00:00</th>\n",
       "      <td>0.003180</td>\n",
       "      <td>sell</td>\n",
       "    </tr>\n",
       "    <tr>\n",
       "      <th>2022-10-06 16:41:57.200000+00:00</th>\n",
       "      <td>0.000041</td>\n",
       "      <td>sell</td>\n",
       "    </tr>\n",
       "    <tr>\n",
       "      <th>2022-10-06 16:41:48.200000+00:00</th>\n",
       "      <td>0.000400</td>\n",
       "      <td>sell</td>\n",
       "    </tr>\n",
       "    <tr>\n",
       "      <th>2022-10-06 16:41:42.400000+00:00</th>\n",
       "      <td>0.000485</td>\n",
       "      <td>sell</td>\n",
       "    </tr>\n",
       "    <tr>\n",
       "      <th>...</th>\n",
       "      <td>...</td>\n",
       "      <td>...</td>\n",
       "    </tr>\n",
       "    <tr>\n",
       "      <th>2022-10-06 15:48:12.400000+00:00</th>\n",
       "      <td>0.000382</td>\n",
       "      <td>buy</td>\n",
       "    </tr>\n",
       "    <tr>\n",
       "      <th>2022-10-06 15:48:00.400000+00:00</th>\n",
       "      <td>0.030500</td>\n",
       "      <td>buy</td>\n",
       "    </tr>\n",
       "    <tr>\n",
       "      <th>2022-10-06 15:47:11.800000+00:00</th>\n",
       "      <td>0.824202</td>\n",
       "      <td>sell</td>\n",
       "    </tr>\n",
       "    <tr>\n",
       "      <th>2022-10-06 15:47:11.800000+00:00</th>\n",
       "      <td>0.030500</td>\n",
       "      <td>buy</td>\n",
       "    </tr>\n",
       "    <tr>\n",
       "      <th>2022-10-06 15:47:11.600000+00:00</th>\n",
       "      <td>0.000006</td>\n",
       "      <td>sell</td>\n",
       "    </tr>\n",
       "  </tbody>\n",
       "</table>\n",
       "<p>288 rows × 2 columns</p>\n",
       "</div>"
      ],
      "text/plain": [
       "                                      size  side\n",
       "time                                            \n",
       "2022-10-06 16:42:04.200000+00:00  0.000060  sell\n",
       "2022-10-06 16:42:02.400000+00:00  0.003180  sell\n",
       "2022-10-06 16:41:57.200000+00:00  0.000041  sell\n",
       "2022-10-06 16:41:48.200000+00:00  0.000400  sell\n",
       "2022-10-06 16:41:42.400000+00:00  0.000485  sell\n",
       "...                                    ...   ...\n",
       "2022-10-06 15:48:12.400000+00:00  0.000382   buy\n",
       "2022-10-06 15:48:00.400000+00:00  0.030500   buy\n",
       "2022-10-06 15:47:11.800000+00:00  0.824202  sell\n",
       "2022-10-06 15:47:11.800000+00:00  0.030500   buy\n",
       "2022-10-06 15:47:11.600000+00:00  0.000006  sell\n",
       "\n",
       "[288 rows x 2 columns]"
      ]
     },
     "execution_count": 7,
     "metadata": {},
     "output_type": "execute_result"
    }
   ],
   "source": [
    "size= data[['time','size', 'side']]\n",
    "size=size.groupby(['time', 'side']).sum()[::-1]\n",
    "tmp = size.index\n",
    "size.index,size['side'] = tmp.get_level_values('time'),tmp.get_level_values('side')\n",
    "size"
   ]
  },
  {
   "cell_type": "code",
   "execution_count": 8,
   "metadata": {},
   "outputs": [
    {
     "name": "stdout",
     "output_type": "stream",
     "text": [
      "                                     price  side\n",
      "time                                            \n",
      "2022-10-06 16:42:04.200000+00:00  20476.99  sell\n",
      "2022-10-06 16:42:02.400000+00:00  20476.87  sell\n",
      "2022-10-06 16:41:57.200000+00:00  20480.95  sell\n",
      "2022-10-06 16:41:48.200000+00:00  20478.39  sell\n",
      "2022-10-06 16:41:42.400000+00:00  20478.63  sell\n",
      "...                                    ...   ...\n",
      "2022-10-06 15:48:16.400000+00:00  20460.58  sell\n",
      "2022-10-06 15:48:12.400000+00:00  20455.28   buy\n",
      "2022-10-06 15:48:00.400000+00:00  20454.62   buy\n",
      "2022-10-06 15:47:11.800000+00:00  20450.28  sell\n",
      "2022-10-06 15:47:11.600000+00:00  20447.40  sell\n",
      "\n",
      "[283 rows x 2 columns]\n"
     ]
    }
   ],
   "source": [
    "price = data[['time','price', 'side']]\n",
    "price = price.groupby(['time']).first()[::-1]\n",
    "print(price)"
   ]
  },
  {
   "cell_type": "code",
   "execution_count": 9,
   "metadata": {},
   "outputs": [
    {
     "data": {
      "image/png": "[encoded data removed]",
      "text/plain": [
       "<Figure size 432x288 with 2 Axes>"
      ]
     },
     "metadata": {
      "needs_background": "light"
     },
     "output_type": "display_data"
    }
   ],
   "source": [
    "fig, axs = plt.subplots(1,2)\n",
    "axs[0].hist(size['size'], bins=100)\n",
    "axs[1].hist(price['price'], bins=100)\n",
    "plt.show()"
   ]
  },
  {
   "cell_type": "code",
   "execution_count": 10,
   "metadata": {},
   "outputs": [
    {
     "data": {
      "text/plain": [
       "11.675886524822696"
      ]
     },
     "execution_count": 10,
     "metadata": {},
     "output_type": "execute_result"
    }
   ],
   "source": [
    "# find b as discussed\n",
    "import datetime as dt\n",
    "n = len(price)\n",
    "times = pd.to_datetime(data['time'])\n",
    "# dt.datetime(time_diff)\n",
    "diff = times.iloc[0] - times.iloc[-1]\n",
    "diff = diff.total_seconds()\n",
    "\n",
    "b = (n-1)/diff\n",
    "1/b"
   ]
  },
  {
   "cell_type": "code",
   "execution_count": 11,
   "metadata": {},
   "outputs": [],
   "source": [
    "pb = price[price['side']=='buy']\n",
    "ps = price[price['side']=='sell']"
   ]
  },
  {
   "cell_type": "code",
   "execution_count": 12,
   "metadata": {},
   "outputs": [
    {
     "name": "stdout",
     "output_type": "stream",
     "text": [
      "29.624074074074077\n"
     ]
    },
    {
     "data": {
      "text/plain": [
       "(0, 20)"
      ]
     },
     "execution_count": 12,
     "metadata": {},
     "output_type": "execute_result"
    },
    {
     "data": {
      "image/png": "[encoded data removed]",
      "text/plain": [
       "<Figure size 432x288 with 1 Axes>"
      ]
     },
     "metadata": {
      "needs_background": "light"
     },
     "output_type": "display_data"
    }
   ],
   "source": [
    "timeb = pd.to_datetime(pb.index)\n",
    "pd.Series((timeb[:-1]-timeb[1:]).total_seconds()).hist(bins=100)\n",
    "bb = (timeb.shape[0]-1)/(timeb[0]-timeb[-1]).total_seconds()\n",
    "print(1/bb)\n",
    "tmp = np.arange(0,100,0.01)\n",
    "plt.plot(tmp,bb*np.exp(-bb*tmp)*(timeb.shape[0]-1)*100/100)\n",
    "plt.xlim((0,200))\n",
    "plt.ylim((0,20))"
   ]
  },
  {
   "cell_type": "code",
   "execution_count": 13,
   "metadata": {},
   "outputs": [
    {
     "name": "stdout",
     "output_type": "stream",
     "text": [
      "19.03236994219653\n"
     ]
    },
    {
     "data": {
      "image/png": "[encoded data removed]",
      "text/plain": [
       "<Figure size 432x288 with 1 Axes>"
      ]
     },
     "metadata": {
      "needs_background": "light"
     },
     "output_type": "display_data"
    }
   ],
   "source": [
    "times = pd.to_datetime(ps.index)\n",
    "pd.Series((times[:-1]-times[1:]).total_seconds()).hist()\n",
    "bs = (times.shape[0]-1)/(times[0]-times[-1]).total_seconds()\n",
    "print(1/bs)"
   ]
  },
  {
   "cell_type": "code",
   "execution_count": 14,
   "metadata": {},
   "outputs": [
    {
     "name": "stderr",
     "output_type": "stream",
     "text": [
      "<ipython-input-14-c098a29ef6bb>:2: SettingWithCopyWarning: \n",
      "A value is trying to be set on a copy of a slice from a DataFrame\n",
      "\n",
      "See the caveats in the documentation: https://pandas.pydata.org/pandas-docs/stable/user_guide/indexing.html#returning-a-view-versus-a-copy\n",
      "  pb.drop(labels=pb.index[-1],axis=0,inplace=True)\n",
      "<ipython-input-14-c098a29ef6bb>:3: SettingWithCopyWarning: \n",
      "A value is trying to be set on a copy of a slice from a DataFrame.\n",
      "Try using .loc[row_indexer,col_indexer] = value instead\n",
      "\n",
      "See the caveats in the documentation: https://pandas.pydata.org/pandas-docs/stable/user_guide/indexing.html#returning-a-view-versus-a-copy\n",
      "  pb['pchange'] = tmp[:-1]-tmp[1:]\n"
     ]
    },
    {
     "data": {
      "text/plain": [
       "[<matplotlib.lines.Line2D at 0x7f6fe9d2b550>]"
      ]
     },
     "execution_count": 14,
     "metadata": {},
     "output_type": "execute_result"
    },
    {
     "data": {
      "image/png": "[encoded data removed]",
      "text/plain": [
       "<Figure size 432x288 with 1 Axes>"
      ]
     },
     "metadata": {
      "needs_background": "light"
     },
     "output_type": "display_data"
    }
   ],
   "source": [
    "tmp = pb['price'].array.copy()\n",
    "pb.drop(labels=pb.index[-1],axis=0,inplace=True)\n",
    "pb['pchange'] = tmp[:-1]-tmp[1:]\n",
    "pb['pchange'].hist(bins=50)\n",
    "import scipy.stats as stats\n",
    "tmp = np.linspace(-40,40,1000)\n",
    "plt.plot(tmp,stats.norm.pdf(tmp,-1.362982,10.751931)*pb.shape[0]*80/50)"
   ]
  },
  {
   "cell_type": "code",
   "execution_count": 15,
   "metadata": {},
   "outputs": [
    {
     "name": "stderr",
     "output_type": "stream",
     "text": [
      "<ipython-input-15-f642b36795f8>:2: SettingWithCopyWarning: \n",
      "A value is trying to be set on a copy of a slice from a DataFrame\n",
      "\n",
      "See the caveats in the documentation: https://pandas.pydata.org/pandas-docs/stable/user_guide/indexing.html#returning-a-view-versus-a-copy\n",
      "  ps.drop(labels=ps.index[-1],axis=0,inplace=True)\n",
      "<ipython-input-15-f642b36795f8>:3: SettingWithCopyWarning: \n",
      "A value is trying to be set on a copy of a slice from a DataFrame.\n",
      "Try using .loc[row_indexer,col_indexer] = value instead\n",
      "\n",
      "See the caveats in the documentation: https://pandas.pydata.org/pandas-docs/stable/user_guide/indexing.html#returning-a-view-versus-a-copy\n",
      "  ps['pchange'] = tmp[:-1]-tmp[1:]\n"
     ]
    }
   ],
   "source": [
    "tmp = ps['price'].array.copy()\n",
    "ps.drop(labels=ps.index[-1],axis=0,inplace=True)\n",
    "ps['pchange'] = tmp[:-1]-tmp[1:]"
   ]
  },
  {
   "cell_type": "code",
   "execution_count": 16,
   "metadata": {},
   "outputs": [
    {
     "data": {
      "text/plain": [
       "count    108.000000\n",
       "mean       0.161389\n",
       "std       10.020389\n",
       "min      -24.930000\n",
       "25%       -5.862500\n",
       "50%       -0.575000\n",
       "75%        4.815000\n",
       "max       35.500000\n",
       "Name: pchange, dtype: float64"
      ]
     },
     "execution_count": 16,
     "metadata": {},
     "output_type": "execute_result"
    }
   ],
   "source": [
    "tmp = pb['pchange']\n",
    "muyb,sigmab2 = tmp.mean(),(tmp.std())**2\n",
    "tmp.describe()"
   ]
  },
  {
   "cell_type": "code",
   "execution_count": 17,
   "metadata": {},
   "outputs": [
    {
     "data": {
      "text/plain": [
       "count    173.000000\n",
       "mean       0.171040\n",
       "std        7.880216\n",
       "min      -37.010000\n",
       "25%       -3.700000\n",
       "50%        0.120000\n",
       "75%        3.950000\n",
       "max       23.570000\n",
       "Name: pchange, dtype: float64"
      ]
     },
     "execution_count": 17,
     "metadata": {},
     "output_type": "execute_result"
    }
   ],
   "source": [
    "tmp = ps['pchange']\n",
    "muys,sigmas2 = tmp.mean(),(tmp.std())**2\n",
    "tmp.describe()"
   ]
  },
  {
   "cell_type": "code",
   "execution_count": 18,
   "metadata": {},
   "outputs": [
    {
     "data": {
      "text/plain": [
       "[<matplotlib.lines.Line2D at 0x7f6fd3be2790>]"
      ]
     },
     "execution_count": 18,
     "metadata": {},
     "output_type": "execute_result"
    },
    {
     "data": {
      "image/png": "[encoded data removed]",
      "text/plain": [
       "<Figure size 432x288 with 1 Axes>"
      ]
     },
     "metadata": {
      "needs_background": "light"
     },
     "output_type": "display_data"
    }
   ],
   "source": [
    "from scipy.special import factorial\n",
    "t = 300\n",
    "tmp = np.arange(100)\n",
    "plt.scatter(tmp,(bb*t)**tmp*np.exp(-bb*t)/factorial(tmp))\n",
    "plt.plot(tmp,stats.norm.pdf(tmp,bb*t,(bb*t)**0.5),color='r')"
   ]
  },
  {
   "cell_type": "code",
   "execution_count": 19,
   "metadata": {},
   "outputs": [
    {
     "name": "stdout",
     "output_type": "stream",
     "text": [
      "0.9963902718912239\n",
      "0.4599055434386199\n"
     ]
    }
   ],
   "source": [
    "def pcase(i,j):\n",
    "    return stats.norm.cdf(0,i*muyb+j*muys,(i*sigmab2+j*sigmas2)**0.5)\n",
    "\n",
    "def rangePoisson(L):\n",
    "    return range(max((0,int(L-3.5*L**0.5))),int(L+3.5*L**0.5))\n",
    "\n",
    "T = 300\n",
    "Lb,Ls = bb*T,bs*T\n",
    "Pdecrease,cover = 0,0\n",
    "for i in rangePoisson(Lb):\n",
    "    for j in rangePoisson(Ls):\n",
    "        case = stats.poisson.pmf(i,Lb)*stats.poisson.pmf(j,Ls)\n",
    "        cover += case\n",
    "        Pdecrease += case*stats.norm.cdf(0,loc=i*muyb+j*muys,scale=(i*sigmab2+j*sigmas2)**0.5)\n",
    "print(cover)\n",
    "print(Pdecrease)"
   ]
  }
 ],
 "metadata": {
  "kernelspec": {
   "display_name": "Python 3",
   "language": "python",
   "name": "python3"
  },
  "language_info": {
   "codemirror_mode": {
    "name": "ipython",
    "version": 3
   },
   "file_extension": ".py",
   "mimetype": "text/x-python",
   "name": "python",
   "nbconvert_exporter": "python",
   "pygments_lexer": "ipython3",
   "version": "3.8.10"
  },
  "vscode": {
   "interpreter": {
    "hash": "06840b9b8d79d340baad9893048a12fad6f5c1d250942c42e00c35391e5d1892"
   }
  }
 },
 "nbformat": 4,
 "nbformat_minor": 2
}
