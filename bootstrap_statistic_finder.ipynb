{
 "cells": [
  {
   "cell_type": "code",
   "execution_count": 6,
   "metadata": {},
   "outputs": [],
   "source": [
    "import numpy as np\n",
    "import numpy.random as npr\n",
    "\n",
    "def bootstrap(data, n_bootstrap=1000, statistic=np.mean, conf=0.95):\n",
    "    \"\"\"\n",
    "    Compute input statistic e.g. mean or std ... of a given data set.\n",
    "    Compute confidence interval of a given statistic (a function -> skew_x) via bootstrap.\n",
    "    INPUT\n",
    "    -----\n",
    "    data: np.array()\n",
    "    n_bootstrap: int() e.g.: 1000 (default)\n",
    "    statistic: a callable ie. a function e.g.: np.mean (default)\n",
    "    conf: int(), the confidence level e.g.: 0.95 i.e. 95% (default)\n",
    "\n",
    "    Returns: None\n",
    "    output is a print of the statistic and the confidence interval of the data\n",
    "    \"\"\"\n",
    "    stat = statistic(data)\n",
    "    n = len(data)\n",
    "    bootstrap = np.array([statistic(npr.choice(data, replace=True, size=n)) for i in range(n_bootstrap)])\n",
    "    print('statistic:', stat)\n",
    "    print('confidence interval:', np.percentile(bootstrap, [50 - 100*(conf/2), 50 + 100*(conf/2)]))"
   ]
  },
  {
   "cell_type": "code",
   "execution_count": 7,
   "metadata": {},
   "outputs": [
    {
     "name": "stdout",
     "output_type": "stream",
     "text": [
      "statistic: -0.01152947906460278\n",
      "confidence interval: [-0.07225204  0.04631013]\n",
      "\n",
      "statistic: 0.9689407498474087\n",
      "confidence interval: [0.92925378 1.01269933]\n"
     ]
    }
   ],
   "source": [
    "## Tests\n",
    "data = npr.normal(size=1000)\n",
    "#1. Find the mean of the simulated data set above.\n",
    "bootstrap(data)\n",
    "print()\n",
    "#2. Find the standard deviation of the data set above.\n",
    "bootstrap(data, statistic=np.std)"
   ]
  }
 ],
 "metadata": {
  "kernelspec": {
   "display_name": "Python 3.8.10 ('data_science_intro')",
   "language": "python",
   "name": "python3"
  },
  "language_info": {
   "codemirror_mode": {
    "name": "ipython",
    "version": 3
   },
   "file_extension": ".py",
   "mimetype": "text/x-python",
   "name": "python",
   "nbconvert_exporter": "python",
   "pygments_lexer": "ipython3",
   "version": "3.8.10"
  },
  "orig_nbformat": 4,
  "vscode": {
   "interpreter": {
    "hash": "cbabfed0988f2893072436ea902441b8a1413eb18c630dbca73d15901d61e61c"
   }
  }
 },
 "nbformat": 4,
 "nbformat_minor": 2
}
